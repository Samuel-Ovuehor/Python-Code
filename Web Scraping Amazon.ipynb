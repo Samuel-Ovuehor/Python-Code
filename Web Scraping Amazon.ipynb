{
 "cells": [
  {
   "cell_type": "code",
   "execution_count": 6,
   "id": "542b2447",
   "metadata": {},
   "outputs": [],
   "source": [
    "# imprt libraries\n",
    "\n",
    "from  bs4 import BeautifulSoup\n",
    "import requests\n",
    "import time\n",
    "import datetime\n",
    "import pandas as pd\n",
    "#import smtplip"
   ]
  },
  {
   "cell_type": "code",
   "execution_count": 17,
   "id": "3caeedcf",
   "metadata": {},
   "outputs": [
    {
     "name": "stdout",
     "output_type": "stream",
     "text": [
      "ZD-V+ USB Wired Gaming Controller Gamepad For PC/Laptop Computer(Windows XP/7/8/10/11) & PS3 & Android & Steam - [Black]\n",
      "$20.99\n",
      "4.2 out of 5 stars\n"
     ]
    }
   ],
   "source": [
    "# Connect to Website and pull in data\n",
    "\n",
    "URL = 'https://www.amazon.com/Controller-Gamepad-Computer-Windows-Android/dp/B00OAYHIRA/ref=sr_1_2?crid=3D8J7OR3GAV56&keywords=computer+game&qid=1679175617&sprefix=computer+game%2Caps%2C324&sr=8-2'\n",
    "\n",
    "headers = {\"User-Agent\": \"Mozilla/5.0 (Windows NT 10.0; Win64; x64) AppleWebKit/537.36 (KHTML, like Gecko) Chrome/78.0.3904.108 Safari/537.36\", \"Accept-Encoding\":\"gzip, deflate\", \"Accept\":\"text/html,application/xhtml+xml,application/xml;q=0.9,*/*;q=0.8\", \"DNT\":\"1\",\"Connection\":\"close\", \"Upgrade-Insecure-Requests\":\"1\"}\n",
    "\n",
    "page = requests.get(URL, headers=headers)\n",
    "\n",
    "soup = BeautifulSoup(page.content, \"html.parser\")\n",
    "\n",
    "dbase = BeautifulSoup(soup.prettify(), \"html.parser\")\n",
    "\n",
    "title = dbase.find('span', attrs={'id':'productTitle'}).text.strip()\n",
    "price = dbase.find('span',attrs={'class':'a-offscreen'}).text.strip()\n",
    "rating =dbase.find('i', attrs ={'class':'a-icon a-icon-star a-star-4'}).text.strip()\n",
    "\n",
    "print (title)\n",
    "print (price)\n",
    "print (rating)"
   ]
  },
  {
   "cell_type": "code",
   "execution_count": 19,
   "id": "8efd6141",
   "metadata": {},
   "outputs": [
    {
     "name": "stdout",
     "output_type": "stream",
     "text": [
      "ZD-V+ USB Wired Gaming Controller Gamepad For PC/Laptop Computer(Windows XP/7/8/10/11) & PS3 & Android & Steam - [Black]\n",
      "20.99\n",
      "4.2 out of 5 stars\n",
      "2023-03-18\n"
     ]
    }
   ],
   "source": [
    "title = title.strip()\n",
    "\n",
    "price = price.strip()[1:]\n",
    "\n",
    "rating = rating.strip()\n",
    "\n",
    "today = datetime.date.today()\n",
    "\n",
    "print (title)\n",
    "print (price)\n",
    "print (rating)\n",
    "print(today)"
   ]
  },
  {
   "cell_type": "code",
   "execution_count": 20,
   "id": "a4ca9ddd",
   "metadata": {},
   "outputs": [],
   "source": [
    "import csv\n",
    "header = ['Title','Price','Rating','Date']\n",
    "data = [title, price, rating, today]\n",
    "\n",
    "with open('amazonwebscap.csv', 'w', newline='', encoding='UTF8') as f:\n",
    "    writer=csv.writer(f)\n",
    "    writer.writerow(header)\n",
    "    writer.writerow(data)"
   ]
  },
  {
   "cell_type": "code",
   "execution_count": 21,
   "id": "384822a0",
   "metadata": {},
   "outputs": [
    {
     "name": "stdout",
     "output_type": "stream",
     "text": [
      "                                               Title  Price  \\\n",
      "0  ZD-V+ USB Wired Gaming Controller Gamepad For ...  20.99   \n",
      "\n",
      "               Rating        Date  \n",
      "0  4.2 out of 5 stars  2023-03-18  \n"
     ]
    }
   ],
   "source": [
    "df = pd.read_csv(r'C:\\Users\\sovuehor\\amazonwebscap.csv')\n",
    "print(df)"
   ]
  },
  {
   "cell_type": "code",
   "execution_count": null,
   "id": "c62dfd61",
   "metadata": {},
   "outputs": [],
   "source": [
    "#Now we are appending data to the csv\n",
    "\n",
    "with open('amazonwebscape.csv', 'a+', newline='', encoding='UTF8') as f:\n",
    "    writer = csv.writer(f)\n",
    "    writer.writerow(data)"
   ]
  },
  {
   "cell_type": "code",
   "execution_count": null,
   "id": "66698a23",
   "metadata": {},
   "outputs": [],
   "source": [
    "#Combine all of the above code into one function\n",
    "\n",
    "def check_price():\n",
    "    URL = 'https://www.amazon.com/Controller-Gamepad-Computer-Windows-Android/dp/B00OAYHIRA/ref=sr_1_2?crid=3D8J7OR3GAV56&keywords=computer+game&qid=1679175617&sprefix=computer+game%2Caps%2C324&sr=8-2'\n",
    "\n",
    "    headers = {\"User-Agent\": \"Mozilla/5.0 (Windows NT 10.0; Win64; x64) AppleWebKit/537.36 (KHTML, like Gecko) Chrome/78.0.3904.108 Safari/537.36\", \"Accept-Encoding\":\"gzip, deflate\", \"Accept\":\"text/html,application/xhtml+xml,application/xml;q=0.9,*/*;q=0.8\", \"DNT\":\"1\",\"Connection\":\"close\", \"Upgrade-Insecure-Requests\":\"1\"}\n",
    "\n",
    "    page = requests.get(URL, headers=headers)\n",
    "\n",
    "    soup = BeautifulSoup(page.content, \"html.parser\")\n",
    "\n",
    "    dbase = BeautifulSoup(soup.prettify(), \"html.parser\")\n",
    "\n",
    "    title = dbase.find('span', attrs={'id':'productTitle'}).text.strip()\n",
    "    price = dbase.find('span',attrs={'class':'a-offscreen'}).text.strip()\n",
    "    rating =dbase.find('i', attrs ={'class':'a-icon a-icon-star a-star-4'}).text.strip()\n",
    "   \n",
    "    title = title.strip()\n",
    "\n",
    "    price = price.strip()[1:]\n",
    "\n",
    "    rating = rating.strip()\n",
    "\n",
    "    today = datetime.date.today()\n",
    "    \n",
    "    import csv\n",
    "    header = ['Title','Price','Rating','Date']\n",
    "    data = [title, price, rating, today]\n",
    "\n",
    "    with open('amazonwebscape.csv', 'a+', newline='', encoding='UTF8') as f:\n",
    "        writer=csv.writer(f)\n",
    "        writer.writerow(header)\n",
    "        writer.writerow(data)"
   ]
  },
  {
   "cell_type": "code",
   "execution_count": null,
   "id": "bf0d550c",
   "metadata": {},
   "outputs": [],
   "source": [
    "# Runs check_price after a set time and inputs data into your CSV\n",
    "\n",
    "while(True):\n",
    "    check_price()\n",
    "    time.sleep(6800)"
   ]
  },
  {
   "cell_type": "code",
   "execution_count": null,
   "id": "46b6d78f",
   "metadata": {},
   "outputs": [],
   "source": [
    "df = pd.read_csv(r'C:\\Users\\sovuehor\\amazonwebscape.csv')\n",
    "\n",
    "print(df)"
   ]
  },
  {
   "cell_type": "code",
   "execution_count": null,
   "id": "39c26618",
   "metadata": {},
   "outputs": [],
   "source": [
    "# I want it to send an email when a price hits below £15\n",
    "\n",
    "def send_mail():\n",
    "    server = smtplib.SMTP_SSL('smtp.gmail.com',465)\n",
    "    server.ehlo()\n",
    "    #server.starttls()\n",
    "    server.ehlo()\n",
    "    server.login('samuelovuehor@yahoo.com','xxxxxxxxxxxxxx')\n",
    "    \n",
    "    subject = \"The Shirt you want is below £15! Now is your chance to buy!\"\n",
    "    body = \"Alex, This is the moment we have been waiting for. Now is your chance to pick up the shirt of your dreams. Don't mess it up! Link here: https://www.amazon.com/Funny-Data-Systems-Business-Analyst/dp/B07FNW9FGJ/ref=sr_1_3?dchild=1&keywords=data+analyst+tshirt&qid=1626655184&sr=8-3\"\n",
    "   \n",
    "    msg = f\"Subject: {subject}\\n\\n{body}\"\n",
    "    \n",
    "    server.sendmail(\n",
    "        'samuelovuehor@yahoo.com',\n",
    "        msg"
   ]
  },
  {
   "cell_type": "code",
   "execution_count": null,
   "id": "0465f8b7",
   "metadata": {},
   "outputs": [],
   "source": []
  }
 ],
 "metadata": {
  "kernelspec": {
   "display_name": "Python 3 (ipykernel)",
   "language": "python",
   "name": "python3"
  },
  "language_info": {
   "codemirror_mode": {
    "name": "ipython",
    "version": 3
   },
   "file_extension": ".py",
   "mimetype": "text/x-python",
   "name": "python",
   "nbconvert_exporter": "python",
   "pygments_lexer": "ipython3",
   "version": "3.9.12"
  }
 },
 "nbformat": 4,
 "nbformat_minor": 5
}
